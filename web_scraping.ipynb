{
 "cells": [
  {
   "cell_type": "code",
   "execution_count": 79,
   "metadata": {},
   "outputs": [],
   "source": [
    "from bs4 import BeautifulSoup\n",
    "import requests\n",
    "from csv import writer\n"
   ]
  },
  {
   "cell_type": "code",
   "execution_count": 83,
   "metadata": {},
   "outputs": [],
   "source": [
    "# Getting info of potential starting 5's for each NBA team for the 2021-2022 Season\n",
    "\n",
    "url = \"https://www.lineups.com/nba/lineups\"\n",
    "page = requests.get(url)\n",
    "\n",
    "nba_data = BeautifulSoup(page.content, 'html.parser')\n",
    "lists = nba_data.find_all('div', class_= \"multi-row-data-table-wrapper\")\n",
    "\n",
    "\n",
    "for list in lists:\n",
    "    team_name = list.find('span', class_= None).text\n",
    "    players = list.find_all('tr', class_=\"t-content\")\n",
    "    for player in players:\n",
    "        position = player.find('td', class_ = None).text\n",
    "        player_name = player.find('span', class_='long-player-name').text\n",
    "        info = [team_name, position, player_name]\n",
    "        #print(info)\n",
    "\n",
    "        \n",
    "\n"
   ]
  },
  {
   "cell_type": "code",
   "execution_count": 82,
   "metadata": {},
   "outputs": [],
   "source": [
    "# Putting info into csv file \n",
    "\n",
    "url = \"https://www.lineups.com/nba/lineups\"\n",
    "page = requests.get(url)\n",
    "\n",
    "nba_data = BeautifulSoup(page.content, 'html.parser')\n",
    "lists = nba_data.find_all('div', class_= \"multi-row-data-table-wrapper\")\n",
    "\n",
    "\n",
    "with open('2021_Nba_Teams.csv', 'w', encoding='utf8', newline= '') as nba:\n",
    "    thewriter = writer(nba)\n",
    "    header = ['Team', 'Position', 'Player']\n",
    "    thewriter.writerow(header)\n",
    "\n",
    "\n",
    "    for list in lists:\n",
    "        team_name = list.find('span', class_= None).text\n",
    "        players = list.find_all('tr', class_=\"t-content\")\n",
    "        for player in players:\n",
    "            position = player.find('td', class_ = None).text\n",
    "            player_name = player.find('span', class_='long-player-name').text\n",
    "            info = [team_name, position, player_name]\n",
    "            thewriter.writerow(info)"
   ]
  },
  {
   "cell_type": "code",
   "execution_count": null,
   "metadata": {},
   "outputs": [],
   "source": []
  }
 ],
 "metadata": {
  "interpreter": {
   "hash": "3936e114ef734c9f5df3c3fcf41e42a664287bb564c50818d643c4211b98b1ca"
  },
  "kernelspec": {
   "display_name": "Python 3.9.7 64-bit ('web_scraping': conda)",
   "name": "python3"
  },
  "language_info": {
   "codemirror_mode": {
    "name": "ipython",
    "version": 3
   },
   "file_extension": ".py",
   "mimetype": "text/x-python",
   "name": "python",
   "nbconvert_exporter": "python",
   "pygments_lexer": "ipython3",
   "version": "3.9.7"
  },
  "orig_nbformat": 4
 },
 "nbformat": 4,
 "nbformat_minor": 2
}
